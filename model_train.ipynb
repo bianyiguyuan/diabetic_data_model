{
 "cells": [
  {
   "cell_type": "code",
   "execution_count": 1,
   "metadata": {},
   "outputs": [],
   "source": [
    "from sklearn.impute import SimpleImputer\n",
    "from sklearn.preprocessing import LabelEncoder  \n",
    "from sklearn.preprocessing import StandardScaler\n",
    "import numpy as np\n",
    "import pandas as pd\n",
    "import matplotlib.pyplot as plt\n",
    "import seaborn as sns"
   ]
  },
  {
   "cell_type": "code",
   "execution_count": 2,
   "metadata": {},
   "outputs": [],
   "source": [
    "USELESS_DATA_BOUNDARY= 0.5"
   ]
  },
  {
   "cell_type": "code",
   "execution_count": 3,
   "metadata": {},
   "outputs": [],
   "source": [
    "class DataSet(object):\n",
    "    def __init__(self, csv_path):\n",
    "        self.data = pd.read_csv(csv_path)\n",
    "        #print(self.data)\n",
    "        self.processed_data = self.data\n",
    "        #self.missing_value_process()\n",
    "\n",
    "        #self.raw_predictor = self.data.iloc[:,:-1].values\n",
    "        #self.raw_response = self.data.iloc[:,-1].values\n",
    "\n",
    "        self.useless_value_process()\n",
    "        self.missing_value_process()\n",
    "        self.tag_transfer()\n",
    "        self.imputer_process()\n",
    "        self.normalize()\n",
    "\n",
    "    def useless_value_process(self):\n",
    "        col_del = ['examide', 'citoglipton', 'glimepiride-pioglitazone']\n",
    "        self.processed_data.drop(col_del, axis=1, inplace = True)\n",
    "    \n",
    "    def missing_value_process(self):\n",
    "        row_num = len(self.data)\n",
    "        col_num = len(self.data.columns)\n",
    "        cols_to_drop = []\n",
    "        for col in range(col_num):\n",
    "            qm_num = 0\n",
    "            for row in range(row_num):\n",
    "                if str(self.data.iat[row,col]) == \"?\":\n",
    "                    qm_num += 1\n",
    "\n",
    "            #print(qm_num/row_num)\n",
    "            if qm_num/row_num >= USELESS_DATA_BOUNDARY:\n",
    "                #print(\"true\")\n",
    "                cols_to_drop.append(self.data.columns[col])\n",
    "        \n",
    "        self.processed_data.drop(columns=cols_to_drop, axis=1, inplace = True)\n",
    "\n",
    "    def imputer_process(self):\n",
    "        # Replace the question marks with the most frequently appeared value for each feature\n",
    "        imp = SimpleImputer(missing_values= -1, strategy='most_frequent')\n",
    "        imp.fit(self.processed_data)\n",
    "\n",
    "\n",
    "    def tag_transfer(self): \n",
    "\n",
    "        le = LabelEncoder()\n",
    "        #self.processed_data.replace('?', -1, inplace=True)\n",
    "        value_to_keep = \"?\"\n",
    "\n",
    "        # 遍历DataFrame的每一列\n",
    "        for column in self.processed_data.columns:\n",
    "            # 如果列的数据类型是对象（通常意味着它是分类类型）\n",
    "            if self.processed_data[column].dtype == 'object':\n",
    "                # 对列应用 LabelEncoder\n",
    "                values_to_encode = self.processed_data[column] != value_to_keep\n",
    "                #original_column = self.processed_data[column].copy()\n",
    "                # 对非特定值应用 LabelEncoder\n",
    "                encoded_values = le.fit_transform(self.processed_data.loc[values_to_encode, column])\n",
    "                self.processed_data[column] = le.fit_transform(self.processed_data[column])\n",
    "                #self.processed_data[column] = pd.Series(encoded_values, index=self.processed_data.index[values_to_encode]).astype(int)\n",
    "                #self.processed_data.loc[~values_to_encode, column] = original_column[~values_to_encode]\n",
    "                self.processed_data[column].fillna(self.processed_data[column], inplace=True)\n",
    "\n",
    "        #print(self.processed_data)\n",
    "    #I have changed        \n",
    "\n",
    "        #self.processed_data = self.raw_data.dropna()\n",
    "\n",
    "    def normalize(self):\n",
    "\n",
    "        # Normalize data using StandardScaler\n",
    "        scaler = StandardScaler()\n",
    "        normalized_data = scaler.fit_transform(self.processed_data)\n",
    "\n",
    "        # Print normalized data\n",
    "        print(normalized_data)\n",
    "\n",
    "    def \n"
   ]
  },
  {
   "cell_type": "code",
   "execution_count": 4,
   "metadata": {},
   "outputs": [
    {
     "name": "stdout",
     "output_type": "stream",
     "text": [
      "[[-1.60808655  0.03405514  0.42642076 ... -1.07817624  0.54600552\n",
      "  -0.62393679]\n",
      " [-1.60891255  0.81981035 -1.70374101 ...  0.92749216  0.54600552\n",
      "   0.83721756]\n",
      " [-1.60466512  0.72667551  0.42642076 ... -1.07817624  0.54600552\n",
      "   0.83721756]\n",
      " ...\n",
      " [ 2.71485392 -0.34154277  0.42642076 ... -1.07817624  0.54600552\n",
      "   0.83721756]\n",
      " [ 2.71488333 -0.58423119  0.42642076 ... -1.07817624  0.54600552\n",
      "   0.83721756]\n",
      " [ 2.7149813   3.12865197  0.42642076 ...  0.92749216 -1.8314833\n",
      "   0.83721756]]\n",
      "[[-1.58722431 -1.20073163  0.43786174 ...  0.91850935 -1.81546287\n",
      "   0.83385164]\n",
      " [-1.60914682  0.91738843 -1.70347364 ...  0.91850935  0.55082371\n",
      "  -0.63433316]\n",
      " [-1.60796045 -0.82088293 -2.77414133 ... -1.08872055  0.55082371\n",
      "   0.83385164]\n",
      " ...\n",
      " [ 2.71416087  2.07905614  0.43786174 ... -1.08872055  0.55082371\n",
      "   0.83385164]\n",
      " [ 2.714608    2.18636706  0.43786174 ... -1.08872055  0.55082371\n",
      "  -2.10251797]\n",
      " [ 2.71483095 -0.10716727 -1.70347364 ... -1.08872055  0.55082371\n",
      "  -0.63433316]]\n"
     ]
    }
   ],
   "source": [
    "train_data = DataSet('diabetic_data_training.csv')\n",
    "test_data = DataSet('diabetic_data_test.csv')\n",
    "\n",
    "#train_data.data\n",
    "train_data.processed_data, test_data.processed_data\n",
    "\n",
    "train_data.processed_data.to_csv(\"test_csv.csv\",sep=';',index=False)\n"
   ]
  },
  {
   "cell_type": "code",
   "execution_count": 5,
   "metadata": {},
   "outputs": [
    {
     "data": {
      "text/plain": [
       "(array([[149190, 55629189, 'Caucasian', ..., 'No', 'Ch', 'Yes'],\n",
       "        [64410, 86047875, 'AfricanAmerican', ..., 'No', 'No', 'Yes'],\n",
       "        [500364, 82442376, 'Caucasian', ..., 'No', 'Ch', 'Yes'],\n",
       "        ...,\n",
       "        [443854148, 41088789, 'Caucasian', ..., 'No', 'Ch', 'Yes'],\n",
       "        [443857166, 31693671, 'Caucasian', ..., 'No', 'Ch', 'Yes'],\n",
       "        [443867222, 175429310, 'Caucasian', ..., 'No', 'No', 'No']],\n",
       "       dtype=object),\n",
       " array(['>30', 'NO', 'NO', ..., 'NO', 'NO', 'NO'], dtype=object))"
      ]
     },
     "execution_count": 5,
     "metadata": {},
     "output_type": "execute_result"
    }
   ],
   "source": [
    "train_data = pd.read_csv('diabetic_data_training.csv')\n",
    "test_data = pd.read_csv('diabetic_data_test.csv')\n",
    "\n",
    "predictor = train_data.iloc[:,:-1].values\n",
    "response = train_data.iloc[:,-1].values\n",
    "\n",
    "predictor,response "
   ]
  }
 ],
 "metadata": {
  "kernelspec": {
   "display_name": "jupyter",
   "language": "python",
   "name": "python3"
  },
  "language_info": {
   "codemirror_mode": {
    "name": "ipython",
    "version": 3
   },
   "file_extension": ".py",
   "mimetype": "text/x-python",
   "name": "python",
   "nbconvert_exporter": "python",
   "pygments_lexer": "ipython3",
   "version": "3.10.2"
  }
 },
 "nbformat": 4,
 "nbformat_minor": 2
}
